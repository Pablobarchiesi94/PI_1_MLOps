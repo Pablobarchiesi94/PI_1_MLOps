{
  "nbformat": 4,
  "nbformat_minor": 0,
  "metadata": {
    "colab": {
      "provenance": [],
      "authorship_tag": "ABX9TyMoPFJqkOT29L7KZ/9JyDFq",
      "include_colab_link": true
    },
    "kernelspec": {
      "name": "python3",
      "display_name": "Python 3"
    },
    "language_info": {
      "name": "python"
    }
  },
  "cells": [
    {
      "cell_type": "markdown",
      "metadata": {
        "id": "view-in-github",
        "colab_type": "text"
      },
      "source": [
        "<a href=\"https://colab.research.google.com/github/Pablobarchiesi94/PI_1_MLOps/blob/main/ETL%20/%20Uni%C3%B3n_de_movies_y_credits_datasets.ipynb\" target=\"_parent\"><img src=\"https://colab.research.google.com/assets/colab-badge.svg\" alt=\"Open In Colab\"/></a>"
      ]
    },
    {
      "cell_type": "markdown",
      "source": [
        "Me conecto a Google Drive"
      ],
      "metadata": {
        "id": "E21oQDnzFMRZ"
      }
    },
    {
      "cell_type": "code",
      "execution_count": 1,
      "metadata": {
        "colab": {
          "base_uri": "https://localhost:8080/"
        },
        "id": "9i_vOHfzJYgk",
        "outputId": "1430ab0e-9793-4c5e-fb9d-36669558adae"
      },
      "outputs": [
        {
          "output_type": "stream",
          "name": "stdout",
          "text": [
            "Mounted at /content/drive\n"
          ]
        }
      ],
      "source": [
        "from google.colab import drive\n",
        "drive.mount('/content/drive')"
      ]
    },
    {
      "cell_type": "markdown",
      "source": [
        "Importo pandas"
      ],
      "metadata": {
        "id": "FEfluQy_GOy7"
      }
    },
    {
      "cell_type": "code",
      "source": [
        "import pandas as pd"
      ],
      "metadata": {
        "id": "7AATAJVGGLdq"
      },
      "execution_count": 2,
      "outputs": []
    },
    {
      "cell_type": "markdown",
      "source": [
        "Abro los Dataframe"
      ],
      "metadata": {
        "id": "K1mRDjO3IgFH"
      }
    },
    {
      "cell_type": "code",
      "source": [
        "df_movies = pd.read_csv('/content/drive/MyDrive/df_movies_limpio.csv')"
      ],
      "metadata": {
        "id": "qKLI5y7TJ3ff"
      },
      "execution_count": 3,
      "outputs": []
    },
    {
      "cell_type": "code",
      "source": [
        "df_credits = pd.read_csv('/content/drive/MyDrive/df_credits_limpio.csv')"
      ],
      "metadata": {
        "id": "LCyee0SAKPCI"
      },
      "execution_count": 4,
      "outputs": []
    },
    {
      "cell_type": "markdown",
      "source": [
        "Uno los Dataframe"
      ],
      "metadata": {
        "id": "jFqLx56gI_uZ"
      }
    },
    {
      "cell_type": "code",
      "source": [
        "df_merged = pd.merge(df_movies, df_credits, on='id', how='outer')"
      ],
      "metadata": {
        "id": "L3cWR47bKfpC"
      },
      "execution_count": 5,
      "outputs": []
    },
    {
      "cell_type": "code",
      "source": [
        "df_merged.head(5)"
      ],
      "metadata": {
        "colab": {
          "base_uri": "https://localhost:8080/",
          "height": 424
        },
        "id": "480n5AbOLP1B",
        "outputId": "321b5395-a95e-48c0-ce14-297e23ccde0b"
      },
      "execution_count": 6,
      "outputs": [
        {
          "output_type": "execute_result",
          "data": {
            "text/plain": [
              "       budget                              genres     id  popularity  \\\n",
              "0  30000000.0   ['Animation', 'Comedy', 'Family']    862   21.946943   \n",
              "1  65000000.0  ['Adventure', 'Fantasy', 'Family']   8844   17.015539   \n",
              "2         0.0               ['Romance', 'Comedy']  15602   11.712900   \n",
              "3  16000000.0      ['Comedy', 'Drama', 'Romance']  31357    3.859495   \n",
              "4         0.0                          ['Comedy']  11862    8.387519   \n",
              "\n",
              "  release_date      revenue                        title  vote_average  \\\n",
              "0   1995-10-30  373554033.0                    Toy Story           7.7   \n",
              "1   1995-12-15  262797249.0                      Jumanji           6.9   \n",
              "2   1995-12-22          0.0             Grumpier Old Men           6.5   \n",
              "3   1995-12-22   81452156.0            Waiting to Exhale           6.1   \n",
              "4   1995-02-10   76578911.0  Father of the Bride Part II           5.7   \n",
              "\n",
              "   vote_count  release_year     return DiaSemana        Mes  \\\n",
              "0      5415.0        1995.0  12.451801     Lunes    Octubre   \n",
              "1      2413.0        1995.0   4.043035   Viernes  Diciembre   \n",
              "2        92.0        1995.0   0.000000   Viernes  Diciembre   \n",
              "3        34.0        1995.0   5.090760   Viernes  Diciembre   \n",
              "4       173.0        1995.0   0.000000   Viernes    Febrero   \n",
              "\n",
              "                                                cast  \\\n",
              "0  ['Tom Hanks', 'Tim Allen', 'Don Rickles', 'Jim...   \n",
              "1  ['Robin Williams', 'Jonathan Hyde', 'Kirsten D...   \n",
              "2  ['Walter Matthau', 'Jack Lemmon', 'Ann-Margret...   \n",
              "3  ['Whitney Houston', 'Angela Bassett', 'Loretta...   \n",
              "4  ['Steve Martin', 'Diane Keaton', 'Martin Short...   \n",
              "\n",
              "                                                crew  \n",
              "0  ['John Lasseter', 'Joss Whedon', 'Andrew Stant...  \n",
              "1  ['Larry J. Franco', 'Jonathan Hensleigh', 'Jam...  \n",
              "2  ['Howard Deutch', 'Mark Steven Johnson', 'Mark...  \n",
              "3  ['Forest Whitaker', 'Ronald Bass', 'Ronald Bas...  \n",
              "4  ['Alan Silvestri', 'Elliot Davis', 'Nancy Meye...  "
            ],
            "text/html": [
              "\n",
              "  <div id=\"df-846736c9-de8d-4a95-8450-fd4ea824a5de\">\n",
              "    <div class=\"colab-df-container\">\n",
              "      <div>\n",
              "<style scoped>\n",
              "    .dataframe tbody tr th:only-of-type {\n",
              "        vertical-align: middle;\n",
              "    }\n",
              "\n",
              "    .dataframe tbody tr th {\n",
              "        vertical-align: top;\n",
              "    }\n",
              "\n",
              "    .dataframe thead th {\n",
              "        text-align: right;\n",
              "    }\n",
              "</style>\n",
              "<table border=\"1\" class=\"dataframe\">\n",
              "  <thead>\n",
              "    <tr style=\"text-align: right;\">\n",
              "      <th></th>\n",
              "      <th>budget</th>\n",
              "      <th>genres</th>\n",
              "      <th>id</th>\n",
              "      <th>popularity</th>\n",
              "      <th>release_date</th>\n",
              "      <th>revenue</th>\n",
              "      <th>title</th>\n",
              "      <th>vote_average</th>\n",
              "      <th>vote_count</th>\n",
              "      <th>release_year</th>\n",
              "      <th>return</th>\n",
              "      <th>DiaSemana</th>\n",
              "      <th>Mes</th>\n",
              "      <th>cast</th>\n",
              "      <th>crew</th>\n",
              "    </tr>\n",
              "  </thead>\n",
              "  <tbody>\n",
              "    <tr>\n",
              "      <th>0</th>\n",
              "      <td>30000000.0</td>\n",
              "      <td>['Animation', 'Comedy', 'Family']</td>\n",
              "      <td>862</td>\n",
              "      <td>21.946943</td>\n",
              "      <td>1995-10-30</td>\n",
              "      <td>373554033.0</td>\n",
              "      <td>Toy Story</td>\n",
              "      <td>7.7</td>\n",
              "      <td>5415.0</td>\n",
              "      <td>1995.0</td>\n",
              "      <td>12.451801</td>\n",
              "      <td>Lunes</td>\n",
              "      <td>Octubre</td>\n",
              "      <td>['Tom Hanks', 'Tim Allen', 'Don Rickles', 'Jim...</td>\n",
              "      <td>['John Lasseter', 'Joss Whedon', 'Andrew Stant...</td>\n",
              "    </tr>\n",
              "    <tr>\n",
              "      <th>1</th>\n",
              "      <td>65000000.0</td>\n",
              "      <td>['Adventure', 'Fantasy', 'Family']</td>\n",
              "      <td>8844</td>\n",
              "      <td>17.015539</td>\n",
              "      <td>1995-12-15</td>\n",
              "      <td>262797249.0</td>\n",
              "      <td>Jumanji</td>\n",
              "      <td>6.9</td>\n",
              "      <td>2413.0</td>\n",
              "      <td>1995.0</td>\n",
              "      <td>4.043035</td>\n",
              "      <td>Viernes</td>\n",
              "      <td>Diciembre</td>\n",
              "      <td>['Robin Williams', 'Jonathan Hyde', 'Kirsten D...</td>\n",
              "      <td>['Larry J. Franco', 'Jonathan Hensleigh', 'Jam...</td>\n",
              "    </tr>\n",
              "    <tr>\n",
              "      <th>2</th>\n",
              "      <td>0.0</td>\n",
              "      <td>['Romance', 'Comedy']</td>\n",
              "      <td>15602</td>\n",
              "      <td>11.712900</td>\n",
              "      <td>1995-12-22</td>\n",
              "      <td>0.0</td>\n",
              "      <td>Grumpier Old Men</td>\n",
              "      <td>6.5</td>\n",
              "      <td>92.0</td>\n",
              "      <td>1995.0</td>\n",
              "      <td>0.000000</td>\n",
              "      <td>Viernes</td>\n",
              "      <td>Diciembre</td>\n",
              "      <td>['Walter Matthau', 'Jack Lemmon', 'Ann-Margret...</td>\n",
              "      <td>['Howard Deutch', 'Mark Steven Johnson', 'Mark...</td>\n",
              "    </tr>\n",
              "    <tr>\n",
              "      <th>3</th>\n",
              "      <td>16000000.0</td>\n",
              "      <td>['Comedy', 'Drama', 'Romance']</td>\n",
              "      <td>31357</td>\n",
              "      <td>3.859495</td>\n",
              "      <td>1995-12-22</td>\n",
              "      <td>81452156.0</td>\n",
              "      <td>Waiting to Exhale</td>\n",
              "      <td>6.1</td>\n",
              "      <td>34.0</td>\n",
              "      <td>1995.0</td>\n",
              "      <td>5.090760</td>\n",
              "      <td>Viernes</td>\n",
              "      <td>Diciembre</td>\n",
              "      <td>['Whitney Houston', 'Angela Bassett', 'Loretta...</td>\n",
              "      <td>['Forest Whitaker', 'Ronald Bass', 'Ronald Bas...</td>\n",
              "    </tr>\n",
              "    <tr>\n",
              "      <th>4</th>\n",
              "      <td>0.0</td>\n",
              "      <td>['Comedy']</td>\n",
              "      <td>11862</td>\n",
              "      <td>8.387519</td>\n",
              "      <td>1995-02-10</td>\n",
              "      <td>76578911.0</td>\n",
              "      <td>Father of the Bride Part II</td>\n",
              "      <td>5.7</td>\n",
              "      <td>173.0</td>\n",
              "      <td>1995.0</td>\n",
              "      <td>0.000000</td>\n",
              "      <td>Viernes</td>\n",
              "      <td>Febrero</td>\n",
              "      <td>['Steve Martin', 'Diane Keaton', 'Martin Short...</td>\n",
              "      <td>['Alan Silvestri', 'Elliot Davis', 'Nancy Meye...</td>\n",
              "    </tr>\n",
              "  </tbody>\n",
              "</table>\n",
              "</div>\n",
              "      <button class=\"colab-df-convert\" onclick=\"convertToInteractive('df-846736c9-de8d-4a95-8450-fd4ea824a5de')\"\n",
              "              title=\"Convert this dataframe to an interactive table.\"\n",
              "              style=\"display:none;\">\n",
              "        \n",
              "  <svg xmlns=\"http://www.w3.org/2000/svg\" height=\"24px\"viewBox=\"0 0 24 24\"\n",
              "       width=\"24px\">\n",
              "    <path d=\"M0 0h24v24H0V0z\" fill=\"none\"/>\n",
              "    <path d=\"M18.56 5.44l.94 2.06.94-2.06 2.06-.94-2.06-.94-.94-2.06-.94 2.06-2.06.94zm-11 1L8.5 8.5l.94-2.06 2.06-.94-2.06-.94L8.5 2.5l-.94 2.06-2.06.94zm10 10l.94 2.06.94-2.06 2.06-.94-2.06-.94-.94-2.06-.94 2.06-2.06.94z\"/><path d=\"M17.41 7.96l-1.37-1.37c-.4-.4-.92-.59-1.43-.59-.52 0-1.04.2-1.43.59L10.3 9.45l-7.72 7.72c-.78.78-.78 2.05 0 2.83L4 21.41c.39.39.9.59 1.41.59.51 0 1.02-.2 1.41-.59l7.78-7.78 2.81-2.81c.8-.78.8-2.07 0-2.86zM5.41 20L4 18.59l7.72-7.72 1.47 1.35L5.41 20z\"/>\n",
              "  </svg>\n",
              "      </button>\n",
              "      \n",
              "  <style>\n",
              "    .colab-df-container {\n",
              "      display:flex;\n",
              "      flex-wrap:wrap;\n",
              "      gap: 12px;\n",
              "    }\n",
              "\n",
              "    .colab-df-convert {\n",
              "      background-color: #E8F0FE;\n",
              "      border: none;\n",
              "      border-radius: 50%;\n",
              "      cursor: pointer;\n",
              "      display: none;\n",
              "      fill: #1967D2;\n",
              "      height: 32px;\n",
              "      padding: 0 0 0 0;\n",
              "      width: 32px;\n",
              "    }\n",
              "\n",
              "    .colab-df-convert:hover {\n",
              "      background-color: #E2EBFA;\n",
              "      box-shadow: 0px 1px 2px rgba(60, 64, 67, 0.3), 0px 1px 3px 1px rgba(60, 64, 67, 0.15);\n",
              "      fill: #174EA6;\n",
              "    }\n",
              "\n",
              "    [theme=dark] .colab-df-convert {\n",
              "      background-color: #3B4455;\n",
              "      fill: #D2E3FC;\n",
              "    }\n",
              "\n",
              "    [theme=dark] .colab-df-convert:hover {\n",
              "      background-color: #434B5C;\n",
              "      box-shadow: 0px 1px 3px 1px rgba(0, 0, 0, 0.15);\n",
              "      filter: drop-shadow(0px 1px 2px rgba(0, 0, 0, 0.3));\n",
              "      fill: #FFFFFF;\n",
              "    }\n",
              "  </style>\n",
              "\n",
              "      <script>\n",
              "        const buttonEl =\n",
              "          document.querySelector('#df-846736c9-de8d-4a95-8450-fd4ea824a5de button.colab-df-convert');\n",
              "        buttonEl.style.display =\n",
              "          google.colab.kernel.accessAllowed ? 'block' : 'none';\n",
              "\n",
              "        async function convertToInteractive(key) {\n",
              "          const element = document.querySelector('#df-846736c9-de8d-4a95-8450-fd4ea824a5de');\n",
              "          const dataTable =\n",
              "            await google.colab.kernel.invokeFunction('convertToInteractive',\n",
              "                                                     [key], {});\n",
              "          if (!dataTable) return;\n",
              "\n",
              "          const docLinkHtml = 'Like what you see? Visit the ' +\n",
              "            '<a target=\"_blank\" href=https://colab.research.google.com/notebooks/data_table.ipynb>data table notebook</a>'\n",
              "            + ' to learn more about interactive tables.';\n",
              "          element.innerHTML = '';\n",
              "          dataTable['output_type'] = 'display_data';\n",
              "          await google.colab.output.renderOutput(dataTable, element);\n",
              "          const docLink = document.createElement('div');\n",
              "          docLink.innerHTML = docLinkHtml;\n",
              "          element.appendChild(docLink);\n",
              "        }\n",
              "      </script>\n",
              "    </div>\n",
              "  </div>\n",
              "  "
            ]
          },
          "metadata": {},
          "execution_count": 6
        }
      ]
    },
    {
      "cell_type": "markdown",
      "source": [
        "Ordeno el nuevo Dataset"
      ],
      "metadata": {
        "id": "t_JdTGmPJ_qr"
      }
    },
    {
      "cell_type": "code",
      "source": [
        "# Extraigo la columna específica y la guardo en una variable\n",
        "columna = df_merged.pop('id')\n",
        "\n",
        "# Inserto la columna en primer lugar\n",
        "df_merged.insert(0, 'id', columna)"
      ],
      "metadata": {
        "id": "kNd0YdJQL13H"
      },
      "execution_count": 7,
      "outputs": []
    },
    {
      "cell_type": "code",
      "source": [
        "df_merged.head(5)"
      ],
      "metadata": {
        "colab": {
          "base_uri": "https://localhost:8080/",
          "height": 424
        },
        "id": "nGR2toIWMTF5",
        "outputId": "6f56a832-094f-4738-db69-28374ecc392f"
      },
      "execution_count": 8,
      "outputs": [
        {
          "output_type": "execute_result",
          "data": {
            "text/plain": [
              "      id      budget                              genres  popularity  \\\n",
              "0    862  30000000.0   ['Animation', 'Comedy', 'Family']   21.946943   \n",
              "1   8844  65000000.0  ['Adventure', 'Fantasy', 'Family']   17.015539   \n",
              "2  15602         0.0               ['Romance', 'Comedy']   11.712900   \n",
              "3  31357  16000000.0      ['Comedy', 'Drama', 'Romance']    3.859495   \n",
              "4  11862         0.0                          ['Comedy']    8.387519   \n",
              "\n",
              "  release_date      revenue                        title  vote_average  \\\n",
              "0   1995-10-30  373554033.0                    Toy Story           7.7   \n",
              "1   1995-12-15  262797249.0                      Jumanji           6.9   \n",
              "2   1995-12-22          0.0             Grumpier Old Men           6.5   \n",
              "3   1995-12-22   81452156.0            Waiting to Exhale           6.1   \n",
              "4   1995-02-10   76578911.0  Father of the Bride Part II           5.7   \n",
              "\n",
              "   vote_count  release_year     return DiaSemana        Mes  \\\n",
              "0      5415.0        1995.0  12.451801     Lunes    Octubre   \n",
              "1      2413.0        1995.0   4.043035   Viernes  Diciembre   \n",
              "2        92.0        1995.0   0.000000   Viernes  Diciembre   \n",
              "3        34.0        1995.0   5.090760   Viernes  Diciembre   \n",
              "4       173.0        1995.0   0.000000   Viernes    Febrero   \n",
              "\n",
              "                                                cast  \\\n",
              "0  ['Tom Hanks', 'Tim Allen', 'Don Rickles', 'Jim...   \n",
              "1  ['Robin Williams', 'Jonathan Hyde', 'Kirsten D...   \n",
              "2  ['Walter Matthau', 'Jack Lemmon', 'Ann-Margret...   \n",
              "3  ['Whitney Houston', 'Angela Bassett', 'Loretta...   \n",
              "4  ['Steve Martin', 'Diane Keaton', 'Martin Short...   \n",
              "\n",
              "                                                crew  \n",
              "0  ['John Lasseter', 'Joss Whedon', 'Andrew Stant...  \n",
              "1  ['Larry J. Franco', 'Jonathan Hensleigh', 'Jam...  \n",
              "2  ['Howard Deutch', 'Mark Steven Johnson', 'Mark...  \n",
              "3  ['Forest Whitaker', 'Ronald Bass', 'Ronald Bas...  \n",
              "4  ['Alan Silvestri', 'Elliot Davis', 'Nancy Meye...  "
            ],
            "text/html": [
              "\n",
              "  <div id=\"df-3d04b062-9d4a-49a4-9432-aa4da02cab47\">\n",
              "    <div class=\"colab-df-container\">\n",
              "      <div>\n",
              "<style scoped>\n",
              "    .dataframe tbody tr th:only-of-type {\n",
              "        vertical-align: middle;\n",
              "    }\n",
              "\n",
              "    .dataframe tbody tr th {\n",
              "        vertical-align: top;\n",
              "    }\n",
              "\n",
              "    .dataframe thead th {\n",
              "        text-align: right;\n",
              "    }\n",
              "</style>\n",
              "<table border=\"1\" class=\"dataframe\">\n",
              "  <thead>\n",
              "    <tr style=\"text-align: right;\">\n",
              "      <th></th>\n",
              "      <th>id</th>\n",
              "      <th>budget</th>\n",
              "      <th>genres</th>\n",
              "      <th>popularity</th>\n",
              "      <th>release_date</th>\n",
              "      <th>revenue</th>\n",
              "      <th>title</th>\n",
              "      <th>vote_average</th>\n",
              "      <th>vote_count</th>\n",
              "      <th>release_year</th>\n",
              "      <th>return</th>\n",
              "      <th>DiaSemana</th>\n",
              "      <th>Mes</th>\n",
              "      <th>cast</th>\n",
              "      <th>crew</th>\n",
              "    </tr>\n",
              "  </thead>\n",
              "  <tbody>\n",
              "    <tr>\n",
              "      <th>0</th>\n",
              "      <td>862</td>\n",
              "      <td>30000000.0</td>\n",
              "      <td>['Animation', 'Comedy', 'Family']</td>\n",
              "      <td>21.946943</td>\n",
              "      <td>1995-10-30</td>\n",
              "      <td>373554033.0</td>\n",
              "      <td>Toy Story</td>\n",
              "      <td>7.7</td>\n",
              "      <td>5415.0</td>\n",
              "      <td>1995.0</td>\n",
              "      <td>12.451801</td>\n",
              "      <td>Lunes</td>\n",
              "      <td>Octubre</td>\n",
              "      <td>['Tom Hanks', 'Tim Allen', 'Don Rickles', 'Jim...</td>\n",
              "      <td>['John Lasseter', 'Joss Whedon', 'Andrew Stant...</td>\n",
              "    </tr>\n",
              "    <tr>\n",
              "      <th>1</th>\n",
              "      <td>8844</td>\n",
              "      <td>65000000.0</td>\n",
              "      <td>['Adventure', 'Fantasy', 'Family']</td>\n",
              "      <td>17.015539</td>\n",
              "      <td>1995-12-15</td>\n",
              "      <td>262797249.0</td>\n",
              "      <td>Jumanji</td>\n",
              "      <td>6.9</td>\n",
              "      <td>2413.0</td>\n",
              "      <td>1995.0</td>\n",
              "      <td>4.043035</td>\n",
              "      <td>Viernes</td>\n",
              "      <td>Diciembre</td>\n",
              "      <td>['Robin Williams', 'Jonathan Hyde', 'Kirsten D...</td>\n",
              "      <td>['Larry J. Franco', 'Jonathan Hensleigh', 'Jam...</td>\n",
              "    </tr>\n",
              "    <tr>\n",
              "      <th>2</th>\n",
              "      <td>15602</td>\n",
              "      <td>0.0</td>\n",
              "      <td>['Romance', 'Comedy']</td>\n",
              "      <td>11.712900</td>\n",
              "      <td>1995-12-22</td>\n",
              "      <td>0.0</td>\n",
              "      <td>Grumpier Old Men</td>\n",
              "      <td>6.5</td>\n",
              "      <td>92.0</td>\n",
              "      <td>1995.0</td>\n",
              "      <td>0.000000</td>\n",
              "      <td>Viernes</td>\n",
              "      <td>Diciembre</td>\n",
              "      <td>['Walter Matthau', 'Jack Lemmon', 'Ann-Margret...</td>\n",
              "      <td>['Howard Deutch', 'Mark Steven Johnson', 'Mark...</td>\n",
              "    </tr>\n",
              "    <tr>\n",
              "      <th>3</th>\n",
              "      <td>31357</td>\n",
              "      <td>16000000.0</td>\n",
              "      <td>['Comedy', 'Drama', 'Romance']</td>\n",
              "      <td>3.859495</td>\n",
              "      <td>1995-12-22</td>\n",
              "      <td>81452156.0</td>\n",
              "      <td>Waiting to Exhale</td>\n",
              "      <td>6.1</td>\n",
              "      <td>34.0</td>\n",
              "      <td>1995.0</td>\n",
              "      <td>5.090760</td>\n",
              "      <td>Viernes</td>\n",
              "      <td>Diciembre</td>\n",
              "      <td>['Whitney Houston', 'Angela Bassett', 'Loretta...</td>\n",
              "      <td>['Forest Whitaker', 'Ronald Bass', 'Ronald Bas...</td>\n",
              "    </tr>\n",
              "    <tr>\n",
              "      <th>4</th>\n",
              "      <td>11862</td>\n",
              "      <td>0.0</td>\n",
              "      <td>['Comedy']</td>\n",
              "      <td>8.387519</td>\n",
              "      <td>1995-02-10</td>\n",
              "      <td>76578911.0</td>\n",
              "      <td>Father of the Bride Part II</td>\n",
              "      <td>5.7</td>\n",
              "      <td>173.0</td>\n",
              "      <td>1995.0</td>\n",
              "      <td>0.000000</td>\n",
              "      <td>Viernes</td>\n",
              "      <td>Febrero</td>\n",
              "      <td>['Steve Martin', 'Diane Keaton', 'Martin Short...</td>\n",
              "      <td>['Alan Silvestri', 'Elliot Davis', 'Nancy Meye...</td>\n",
              "    </tr>\n",
              "  </tbody>\n",
              "</table>\n",
              "</div>\n",
              "      <button class=\"colab-df-convert\" onclick=\"convertToInteractive('df-3d04b062-9d4a-49a4-9432-aa4da02cab47')\"\n",
              "              title=\"Convert this dataframe to an interactive table.\"\n",
              "              style=\"display:none;\">\n",
              "        \n",
              "  <svg xmlns=\"http://www.w3.org/2000/svg\" height=\"24px\"viewBox=\"0 0 24 24\"\n",
              "       width=\"24px\">\n",
              "    <path d=\"M0 0h24v24H0V0z\" fill=\"none\"/>\n",
              "    <path d=\"M18.56 5.44l.94 2.06.94-2.06 2.06-.94-2.06-.94-.94-2.06-.94 2.06-2.06.94zm-11 1L8.5 8.5l.94-2.06 2.06-.94-2.06-.94L8.5 2.5l-.94 2.06-2.06.94zm10 10l.94 2.06.94-2.06 2.06-.94-2.06-.94-.94-2.06-.94 2.06-2.06.94z\"/><path d=\"M17.41 7.96l-1.37-1.37c-.4-.4-.92-.59-1.43-.59-.52 0-1.04.2-1.43.59L10.3 9.45l-7.72 7.72c-.78.78-.78 2.05 0 2.83L4 21.41c.39.39.9.59 1.41.59.51 0 1.02-.2 1.41-.59l7.78-7.78 2.81-2.81c.8-.78.8-2.07 0-2.86zM5.41 20L4 18.59l7.72-7.72 1.47 1.35L5.41 20z\"/>\n",
              "  </svg>\n",
              "      </button>\n",
              "      \n",
              "  <style>\n",
              "    .colab-df-container {\n",
              "      display:flex;\n",
              "      flex-wrap:wrap;\n",
              "      gap: 12px;\n",
              "    }\n",
              "\n",
              "    .colab-df-convert {\n",
              "      background-color: #E8F0FE;\n",
              "      border: none;\n",
              "      border-radius: 50%;\n",
              "      cursor: pointer;\n",
              "      display: none;\n",
              "      fill: #1967D2;\n",
              "      height: 32px;\n",
              "      padding: 0 0 0 0;\n",
              "      width: 32px;\n",
              "    }\n",
              "\n",
              "    .colab-df-convert:hover {\n",
              "      background-color: #E2EBFA;\n",
              "      box-shadow: 0px 1px 2px rgba(60, 64, 67, 0.3), 0px 1px 3px 1px rgba(60, 64, 67, 0.15);\n",
              "      fill: #174EA6;\n",
              "    }\n",
              "\n",
              "    [theme=dark] .colab-df-convert {\n",
              "      background-color: #3B4455;\n",
              "      fill: #D2E3FC;\n",
              "    }\n",
              "\n",
              "    [theme=dark] .colab-df-convert:hover {\n",
              "      background-color: #434B5C;\n",
              "      box-shadow: 0px 1px 3px 1px rgba(0, 0, 0, 0.15);\n",
              "      filter: drop-shadow(0px 1px 2px rgba(0, 0, 0, 0.3));\n",
              "      fill: #FFFFFF;\n",
              "    }\n",
              "  </style>\n",
              "\n",
              "      <script>\n",
              "        const buttonEl =\n",
              "          document.querySelector('#df-3d04b062-9d4a-49a4-9432-aa4da02cab47 button.colab-df-convert');\n",
              "        buttonEl.style.display =\n",
              "          google.colab.kernel.accessAllowed ? 'block' : 'none';\n",
              "\n",
              "        async function convertToInteractive(key) {\n",
              "          const element = document.querySelector('#df-3d04b062-9d4a-49a4-9432-aa4da02cab47');\n",
              "          const dataTable =\n",
              "            await google.colab.kernel.invokeFunction('convertToInteractive',\n",
              "                                                     [key], {});\n",
              "          if (!dataTable) return;\n",
              "\n",
              "          const docLinkHtml = 'Like what you see? Visit the ' +\n",
              "            '<a target=\"_blank\" href=https://colab.research.google.com/notebooks/data_table.ipynb>data table notebook</a>'\n",
              "            + ' to learn more about interactive tables.';\n",
              "          element.innerHTML = '';\n",
              "          dataTable['output_type'] = 'display_data';\n",
              "          await google.colab.output.renderOutput(dataTable, element);\n",
              "          const docLink = document.createElement('div');\n",
              "          docLink.innerHTML = docLinkHtml;\n",
              "          element.appendChild(docLink);\n",
              "        }\n",
              "      </script>\n",
              "    </div>\n",
              "  </div>\n",
              "  "
            ]
          },
          "metadata": {},
          "execution_count": 8
        }
      ]
    },
    {
      "cell_type": "code",
      "source": [
        "# Verifico los valores nulos en la columna release_year\n",
        "column_name = 'release_year'\n",
        "null_values = df_merged[column_name].isnull().sum()\n",
        "\n",
        "# Muestro el número de valores nulos en la columna\n",
        "print(f\"Valores nulos '{column_name}': {null_values}\")"
      ],
      "metadata": {
        "colab": {
          "base_uri": "https://localhost:8080/"
        },
        "id": "HH0utVziLAkr",
        "outputId": "f1ad4f4c-96c3-41ab-e0fd-73040b3ef9e8"
      },
      "execution_count": 9,
      "outputs": [
        {
          "output_type": "stream",
          "name": "stdout",
          "text": [
            "Valores nulos 'release_year': 87\n"
          ]
        }
      ]
    },
    {
      "cell_type": "code",
      "source": [
        "# Elimino las filas con valores nulos en una columna release_year\n",
        "column_name = 'release_year'\n",
        "df_merged = df_merged.dropna(subset=[column_name])\n",
        "# Verifico los valores nulos en la columna release_year\n",
        "column_name = 'release_year'\n",
        "null_values = df_merged[column_name].isnull().sum()\n",
        "\n",
        "# Muestro el número de valores nulos en la columna\n",
        "print(f\"Valores nulos '{column_name}': {null_values}\")\n"
      ],
      "metadata": {
        "colab": {
          "base_uri": "https://localhost:8080/"
        },
        "id": "VpWynGdMLTKr",
        "outputId": "3fef336d-b498-48be-b52a-e8775d37bea7"
      },
      "execution_count": 10,
      "outputs": [
        {
          "output_type": "stream",
          "name": "stdout",
          "text": [
            "Valores nulos 'release_year': 0\n"
          ]
        }
      ]
    },
    {
      "cell_type": "markdown",
      "source": [
        "Cambio el formato de la columna release_year de float a int"
      ],
      "metadata": {
        "id": "PKrQFBMUJ1qj"
      }
    },
    {
      "cell_type": "code",
      "source": [
        "df_merged['release_year'] = df_merged['release_year'].astype(int)"
      ],
      "metadata": {
        "id": "cbTRcWIqJhLw"
      },
      "execution_count": 11,
      "outputs": []
    },
    {
      "cell_type": "code",
      "source": [
        "# Elimino las filas con valores nulos\n",
        "df_merged = df_merged.dropna(subset=['cast'])"
      ],
      "metadata": {
        "id": "1-5hOhnPNSDN"
      },
      "execution_count": 12,
      "outputs": []
    },
    {
      "cell_type": "code",
      "source": [
        "df_merged = df_merged.dropna(subset=['crew'])"
      ],
      "metadata": {
        "id": "7KzgdddBNTjP"
      },
      "execution_count": 13,
      "outputs": []
    },
    {
      "cell_type": "code",
      "source": [
        "# Verifico los valores\n",
        "column_name = 'cast'\n",
        "null_values = df_merged[column_name].isnull().sum()\n",
        "\n",
        "print(f\"Valores nulos '{column_name}': {null_values}\")"
      ],
      "metadata": {
        "colab": {
          "base_uri": "https://localhost:8080/"
        },
        "id": "AUC99UvAPT34",
        "outputId": "f26ea7b0-056b-4442-cb29-d5bae5f176cb"
      },
      "execution_count": 14,
      "outputs": [
        {
          "output_type": "stream",
          "name": "stdout",
          "text": [
            "Valores nulos 'cast': 0\n"
          ]
        }
      ]
    },
    {
      "cell_type": "code",
      "source": [
        "column_name = 'crew'\n",
        "null_values = df_merged[column_name].isnull().sum()\n",
        "\n",
        "print(f\"Valores nulos '{column_name}': {null_values}\")"
      ],
      "metadata": {
        "colab": {
          "base_uri": "https://localhost:8080/"
        },
        "id": "07AbVX9tPXIP",
        "outputId": "41b4e6a9-cf79-47b3-e9f9-1b1377770fde"
      },
      "execution_count": 15,
      "outputs": [
        {
          "output_type": "stream",
          "name": "stdout",
          "text": [
            "Valores nulos 'crew': 0\n"
          ]
        }
      ]
    },
    {
      "cell_type": "markdown",
      "source": [
        "Guardo el Dataset limpio"
      ],
      "metadata": {
        "id": "TdUD8U0Hbm65"
      }
    },
    {
      "cell_type": "code",
      "source": [
        "df_merged.to_csv('df_final_limpio.csv', index=False)"
      ],
      "metadata": {
        "id": "1oycctjtMvJv"
      },
      "execution_count": 16,
      "outputs": []
    },
    {
      "cell_type": "code",
      "source": [
        "df_merged.to_csv('/content/drive/MyDrive/df_final_limpio.csv', index=False)"
      ],
      "metadata": {
        "id": "bAkXnOgAM-Jc"
      },
      "execution_count": 17,
      "outputs": []
    }
  ]
}