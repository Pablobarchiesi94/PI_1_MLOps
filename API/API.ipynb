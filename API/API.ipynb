{
  "nbformat": 4,
  "nbformat_minor": 0,
  "metadata": {
    "colab": {
      "provenance": [],
      "authorship_tag": "ABX9TyOtSRsAPXnPnrs0FAWVrbkd",
      "include_colab_link": true
    },
    "kernelspec": {
      "name": "python3",
      "display_name": "Python 3"
    },
    "language_info": {
      "name": "python"
    }
  },
  "cells": [
    {
      "cell_type": "markdown",
      "metadata": {
        "id": "view-in-github",
        "colab_type": "text"
      },
      "source": [
        "<a href=\"https://colab.research.google.com/github/Pablobarchiesi94/PI_1_MLOps/blob/main/API/API.ipynb\" target=\"_parent\"><img src=\"https://colab.research.google.com/assets/colab-badge.svg\" alt=\"Open In Colab\"/></a>"
      ]
    },
    {
      "cell_type": "code",
      "source": [
        "from google.colab import drive\n",
        "drive.mount('/content/drive')"
      ],
      "metadata": {
        "colab": {
          "base_uri": "https://localhost:8080/"
        },
        "id": "Olo4hdqCW3wz",
        "outputId": "db8da066-22a7-47e6-cd47-3eedc0ebf26e"
      },
      "execution_count": 1,
      "outputs": [
        {
          "output_type": "stream",
          "name": "stdout",
          "text": [
            "Mounted at /content/drive\n"
          ]
        }
      ]
    },
    {
      "cell_type": "code",
      "source": [
        "import pandas as pd\n",
        "import nest_asyncio"
      ],
      "metadata": {
        "id": "fbK5JOaLW3TI"
      },
      "execution_count": 3,
      "outputs": []
    },
    {
      "cell_type": "code",
      "execution_count": 4,
      "metadata": {
        "colab": {
          "base_uri": "https://localhost:8080/"
        },
        "id": "UgFjoMoIQQD5",
        "outputId": "973abd30-9786-4aaa-d2f2-ca5b143ec7a2"
      },
      "outputs": [
        {
          "output_type": "stream",
          "name": "stdout",
          "text": [
            "Collecting fastapi\n",
            "  Downloading fastapi-0.98.0-py3-none-any.whl (56 kB)\n",
            "\u001b[2K     \u001b[90m━━━━━━━━━━━━━━━━━━━━━━━━━━━━━━━━━━━━━━━━\u001b[0m \u001b[32m57.0/57.0 kB\u001b[0m \u001b[31m4.8 MB/s\u001b[0m eta \u001b[36m0:00:00\u001b[0m\n",
            "\u001b[?25hCollecting uvicorn\n",
            "  Downloading uvicorn-0.22.0-py3-none-any.whl (58 kB)\n",
            "\u001b[2K     \u001b[90m━━━━━━━━━━━━━━━━━━━━━━━━━━━━━━━━━━━━━━━━\u001b[0m \u001b[32m58.3/58.3 kB\u001b[0m \u001b[31m8.8 MB/s\u001b[0m eta \u001b[36m0:00:00\u001b[0m\n",
            "\u001b[?25hRequirement already satisfied: pydantic!=1.8,!=1.8.1,<2.0.0,>=1.7.4 in /usr/local/lib/python3.10/dist-packages (from fastapi) (1.10.9)\n",
            "Collecting starlette<0.28.0,>=0.27.0 (from fastapi)\n",
            "  Downloading starlette-0.27.0-py3-none-any.whl (66 kB)\n",
            "\u001b[2K     \u001b[90m━━━━━━━━━━━━━━━━━━━━━━━━━━━━━━━━━━━━━━━━\u001b[0m \u001b[32m67.0/67.0 kB\u001b[0m \u001b[31m9.8 MB/s\u001b[0m eta \u001b[36m0:00:00\u001b[0m\n",
            "\u001b[?25hRequirement already satisfied: click>=7.0 in /usr/local/lib/python3.10/dist-packages (from uvicorn) (8.1.3)\n",
            "Collecting h11>=0.8 (from uvicorn)\n",
            "  Downloading h11-0.14.0-py3-none-any.whl (58 kB)\n",
            "\u001b[2K     \u001b[90m━━━━━━━━━━━━━━━━━━━━━━━━━━━━━━━━━━━━━━━━\u001b[0m \u001b[32m58.3/58.3 kB\u001b[0m \u001b[31m8.4 MB/s\u001b[0m eta \u001b[36m0:00:00\u001b[0m\n",
            "\u001b[?25hRequirement already satisfied: typing-extensions>=4.2.0 in /usr/local/lib/python3.10/dist-packages (from pydantic!=1.8,!=1.8.1,<2.0.0,>=1.7.4->fastapi) (4.6.3)\n",
            "Requirement already satisfied: anyio<5,>=3.4.0 in /usr/local/lib/python3.10/dist-packages (from starlette<0.28.0,>=0.27.0->fastapi) (3.7.0)\n",
            "Requirement already satisfied: idna>=2.8 in /usr/local/lib/python3.10/dist-packages (from anyio<5,>=3.4.0->starlette<0.28.0,>=0.27.0->fastapi) (3.4)\n",
            "Requirement already satisfied: sniffio>=1.1 in /usr/local/lib/python3.10/dist-packages (from anyio<5,>=3.4.0->starlette<0.28.0,>=0.27.0->fastapi) (1.3.0)\n",
            "Requirement already satisfied: exceptiongroup in /usr/local/lib/python3.10/dist-packages (from anyio<5,>=3.4.0->starlette<0.28.0,>=0.27.0->fastapi) (1.1.1)\n",
            "Installing collected packages: h11, uvicorn, starlette, fastapi\n",
            "Successfully installed fastapi-0.98.0 h11-0.14.0 starlette-0.27.0 uvicorn-0.22.0\n"
          ]
        }
      ],
      "source": [
        "!pip install fastapi uvicorn\n"
      ]
    },
    {
      "cell_type": "code",
      "source": [
        "from fastapi import FastAPI\n",
        "from typing import Optional\n",
        "import uvicorn\n",
        "\n",
        "app = FastAPI()"
      ],
      "metadata": {
        "id": "fGLEBimOQfpr"
      },
      "execution_count": 5,
      "outputs": []
    },
    {
      "cell_type": "code",
      "source": [
        "# ABRO DATAFRAME FINAL\n",
        "ruta_archivo = '/content/drive/MyDrive/df_final_limpio.csv'\n",
        "# Leer el archivo CSV y crear un DataFrame final limpio\n",
        "df_final = pd.read_csv(ruta_archivo)"
      ],
      "metadata": {
        "id": "2OFBUFn7QhxM"
      },
      "execution_count": 6,
      "outputs": []
    },
    {
      "cell_type": "code",
      "source": [
        "df_final.head(5)"
      ],
      "metadata": {
        "colab": {
          "base_uri": "https://localhost:8080/",
          "height": 424
        },
        "id": "sjj3HjvdS0mp",
        "outputId": "ff5fefe7-3375-4c89-cea6-45a1dda4c5c7"
      },
      "execution_count": 7,
      "outputs": [
        {
          "output_type": "execute_result",
          "data": {
            "text/plain": [
              "      id      budget                              genres  popularity  \\\n",
              "0    862  30000000.0   ['Animation', 'Comedy', 'Family']   21.946943   \n",
              "1   8844  65000000.0  ['Adventure', 'Fantasy', 'Family']   17.015539   \n",
              "2  15602         0.0               ['Romance', 'Comedy']   11.712900   \n",
              "3  31357  16000000.0      ['Comedy', 'Drama', 'Romance']    3.859495   \n",
              "4  11862         0.0                          ['Comedy']    8.387519   \n",
              "\n",
              "  release_date      revenue                        title  vote_average  \\\n",
              "0   1995-10-30  373554033.0                    Toy Story           7.7   \n",
              "1   1995-12-15  262797249.0                      Jumanji           6.9   \n",
              "2   1995-12-22          0.0             Grumpier Old Men           6.5   \n",
              "3   1995-12-22   81452156.0            Waiting to Exhale           6.1   \n",
              "4   1995-02-10   76578911.0  Father of the Bride Part II           5.7   \n",
              "\n",
              "   vote_count  release_year     return DiaSemana        Mes  \\\n",
              "0      5415.0          1995  12.451801     Lunes    Octubre   \n",
              "1      2413.0          1995   4.043035   Viernes  Diciembre   \n",
              "2        92.0          1995   0.000000   Viernes  Diciembre   \n",
              "3        34.0          1995   5.090760   Viernes  Diciembre   \n",
              "4       173.0          1995   0.000000   Viernes    Febrero   \n",
              "\n",
              "                                                cast  \\\n",
              "0  ['Tom Hanks', 'Tim Allen', 'Don Rickles', 'Jim...   \n",
              "1  ['Robin Williams', 'Jonathan Hyde', 'Kirsten D...   \n",
              "2  ['Walter Matthau', 'Jack Lemmon', 'Ann-Margret...   \n",
              "3  ['Whitney Houston', 'Angela Bassett', 'Loretta...   \n",
              "4  ['Steve Martin', 'Diane Keaton', 'Martin Short...   \n",
              "\n",
              "                                                crew  \n",
              "0  ['John Lasseter', 'Joss Whedon', 'Andrew Stant...  \n",
              "1  ['Larry J. Franco', 'Jonathan Hensleigh', 'Jam...  \n",
              "2  ['Howard Deutch', 'Mark Steven Johnson', 'Mark...  \n",
              "3  ['Forest Whitaker', 'Ronald Bass', 'Ronald Bas...  \n",
              "4  ['Alan Silvestri', 'Elliot Davis', 'Nancy Meye...  "
            ],
            "text/html": [
              "\n",
              "  <div id=\"df-f20165f7-1f48-4c07-aa6f-4c41c13cf997\">\n",
              "    <div class=\"colab-df-container\">\n",
              "      <div>\n",
              "<style scoped>\n",
              "    .dataframe tbody tr th:only-of-type {\n",
              "        vertical-align: middle;\n",
              "    }\n",
              "\n",
              "    .dataframe tbody tr th {\n",
              "        vertical-align: top;\n",
              "    }\n",
              "\n",
              "    .dataframe thead th {\n",
              "        text-align: right;\n",
              "    }\n",
              "</style>\n",
              "<table border=\"1\" class=\"dataframe\">\n",
              "  <thead>\n",
              "    <tr style=\"text-align: right;\">\n",
              "      <th></th>\n",
              "      <th>id</th>\n",
              "      <th>budget</th>\n",
              "      <th>genres</th>\n",
              "      <th>popularity</th>\n",
              "      <th>release_date</th>\n",
              "      <th>revenue</th>\n",
              "      <th>title</th>\n",
              "      <th>vote_average</th>\n",
              "      <th>vote_count</th>\n",
              "      <th>release_year</th>\n",
              "      <th>return</th>\n",
              "      <th>DiaSemana</th>\n",
              "      <th>Mes</th>\n",
              "      <th>cast</th>\n",
              "      <th>crew</th>\n",
              "    </tr>\n",
              "  </thead>\n",
              "  <tbody>\n",
              "    <tr>\n",
              "      <th>0</th>\n",
              "      <td>862</td>\n",
              "      <td>30000000.0</td>\n",
              "      <td>['Animation', 'Comedy', 'Family']</td>\n",
              "      <td>21.946943</td>\n",
              "      <td>1995-10-30</td>\n",
              "      <td>373554033.0</td>\n",
              "      <td>Toy Story</td>\n",
              "      <td>7.7</td>\n",
              "      <td>5415.0</td>\n",
              "      <td>1995</td>\n",
              "      <td>12.451801</td>\n",
              "      <td>Lunes</td>\n",
              "      <td>Octubre</td>\n",
              "      <td>['Tom Hanks', 'Tim Allen', 'Don Rickles', 'Jim...</td>\n",
              "      <td>['John Lasseter', 'Joss Whedon', 'Andrew Stant...</td>\n",
              "    </tr>\n",
              "    <tr>\n",
              "      <th>1</th>\n",
              "      <td>8844</td>\n",
              "      <td>65000000.0</td>\n",
              "      <td>['Adventure', 'Fantasy', 'Family']</td>\n",
              "      <td>17.015539</td>\n",
              "      <td>1995-12-15</td>\n",
              "      <td>262797249.0</td>\n",
              "      <td>Jumanji</td>\n",
              "      <td>6.9</td>\n",
              "      <td>2413.0</td>\n",
              "      <td>1995</td>\n",
              "      <td>4.043035</td>\n",
              "      <td>Viernes</td>\n",
              "      <td>Diciembre</td>\n",
              "      <td>['Robin Williams', 'Jonathan Hyde', 'Kirsten D...</td>\n",
              "      <td>['Larry J. Franco', 'Jonathan Hensleigh', 'Jam...</td>\n",
              "    </tr>\n",
              "    <tr>\n",
              "      <th>2</th>\n",
              "      <td>15602</td>\n",
              "      <td>0.0</td>\n",
              "      <td>['Romance', 'Comedy']</td>\n",
              "      <td>11.712900</td>\n",
              "      <td>1995-12-22</td>\n",
              "      <td>0.0</td>\n",
              "      <td>Grumpier Old Men</td>\n",
              "      <td>6.5</td>\n",
              "      <td>92.0</td>\n",
              "      <td>1995</td>\n",
              "      <td>0.000000</td>\n",
              "      <td>Viernes</td>\n",
              "      <td>Diciembre</td>\n",
              "      <td>['Walter Matthau', 'Jack Lemmon', 'Ann-Margret...</td>\n",
              "      <td>['Howard Deutch', 'Mark Steven Johnson', 'Mark...</td>\n",
              "    </tr>\n",
              "    <tr>\n",
              "      <th>3</th>\n",
              "      <td>31357</td>\n",
              "      <td>16000000.0</td>\n",
              "      <td>['Comedy', 'Drama', 'Romance']</td>\n",
              "      <td>3.859495</td>\n",
              "      <td>1995-12-22</td>\n",
              "      <td>81452156.0</td>\n",
              "      <td>Waiting to Exhale</td>\n",
              "      <td>6.1</td>\n",
              "      <td>34.0</td>\n",
              "      <td>1995</td>\n",
              "      <td>5.090760</td>\n",
              "      <td>Viernes</td>\n",
              "      <td>Diciembre</td>\n",
              "      <td>['Whitney Houston', 'Angela Bassett', 'Loretta...</td>\n",
              "      <td>['Forest Whitaker', 'Ronald Bass', 'Ronald Bas...</td>\n",
              "    </tr>\n",
              "    <tr>\n",
              "      <th>4</th>\n",
              "      <td>11862</td>\n",
              "      <td>0.0</td>\n",
              "      <td>['Comedy']</td>\n",
              "      <td>8.387519</td>\n",
              "      <td>1995-02-10</td>\n",
              "      <td>76578911.0</td>\n",
              "      <td>Father of the Bride Part II</td>\n",
              "      <td>5.7</td>\n",
              "      <td>173.0</td>\n",
              "      <td>1995</td>\n",
              "      <td>0.000000</td>\n",
              "      <td>Viernes</td>\n",
              "      <td>Febrero</td>\n",
              "      <td>['Steve Martin', 'Diane Keaton', 'Martin Short...</td>\n",
              "      <td>['Alan Silvestri', 'Elliot Davis', 'Nancy Meye...</td>\n",
              "    </tr>\n",
              "  </tbody>\n",
              "</table>\n",
              "</div>\n",
              "      <button class=\"colab-df-convert\" onclick=\"convertToInteractive('df-f20165f7-1f48-4c07-aa6f-4c41c13cf997')\"\n",
              "              title=\"Convert this dataframe to an interactive table.\"\n",
              "              style=\"display:none;\">\n",
              "        \n",
              "  <svg xmlns=\"http://www.w3.org/2000/svg\" height=\"24px\"viewBox=\"0 0 24 24\"\n",
              "       width=\"24px\">\n",
              "    <path d=\"M0 0h24v24H0V0z\" fill=\"none\"/>\n",
              "    <path d=\"M18.56 5.44l.94 2.06.94-2.06 2.06-.94-2.06-.94-.94-2.06-.94 2.06-2.06.94zm-11 1L8.5 8.5l.94-2.06 2.06-.94-2.06-.94L8.5 2.5l-.94 2.06-2.06.94zm10 10l.94 2.06.94-2.06 2.06-.94-2.06-.94-.94-2.06-.94 2.06-2.06.94z\"/><path d=\"M17.41 7.96l-1.37-1.37c-.4-.4-.92-.59-1.43-.59-.52 0-1.04.2-1.43.59L10.3 9.45l-7.72 7.72c-.78.78-.78 2.05 0 2.83L4 21.41c.39.39.9.59 1.41.59.51 0 1.02-.2 1.41-.59l7.78-7.78 2.81-2.81c.8-.78.8-2.07 0-2.86zM5.41 20L4 18.59l7.72-7.72 1.47 1.35L5.41 20z\"/>\n",
              "  </svg>\n",
              "      </button>\n",
              "      \n",
              "  <style>\n",
              "    .colab-df-container {\n",
              "      display:flex;\n",
              "      flex-wrap:wrap;\n",
              "      gap: 12px;\n",
              "    }\n",
              "\n",
              "    .colab-df-convert {\n",
              "      background-color: #E8F0FE;\n",
              "      border: none;\n",
              "      border-radius: 50%;\n",
              "      cursor: pointer;\n",
              "      display: none;\n",
              "      fill: #1967D2;\n",
              "      height: 32px;\n",
              "      padding: 0 0 0 0;\n",
              "      width: 32px;\n",
              "    }\n",
              "\n",
              "    .colab-df-convert:hover {\n",
              "      background-color: #E2EBFA;\n",
              "      box-shadow: 0px 1px 2px rgba(60, 64, 67, 0.3), 0px 1px 3px 1px rgba(60, 64, 67, 0.15);\n",
              "      fill: #174EA6;\n",
              "    }\n",
              "\n",
              "    [theme=dark] .colab-df-convert {\n",
              "      background-color: #3B4455;\n",
              "      fill: #D2E3FC;\n",
              "    }\n",
              "\n",
              "    [theme=dark] .colab-df-convert:hover {\n",
              "      background-color: #434B5C;\n",
              "      box-shadow: 0px 1px 3px 1px rgba(0, 0, 0, 0.15);\n",
              "      filter: drop-shadow(0px 1px 2px rgba(0, 0, 0, 0.3));\n",
              "      fill: #FFFFFF;\n",
              "    }\n",
              "  </style>\n",
              "\n",
              "      <script>\n",
              "        const buttonEl =\n",
              "          document.querySelector('#df-f20165f7-1f48-4c07-aa6f-4c41c13cf997 button.colab-df-convert');\n",
              "        buttonEl.style.display =\n",
              "          google.colab.kernel.accessAllowed ? 'block' : 'none';\n",
              "\n",
              "        async function convertToInteractive(key) {\n",
              "          const element = document.querySelector('#df-f20165f7-1f48-4c07-aa6f-4c41c13cf997');\n",
              "          const dataTable =\n",
              "            await google.colab.kernel.invokeFunction('convertToInteractive',\n",
              "                                                     [key], {});\n",
              "          if (!dataTable) return;\n",
              "\n",
              "          const docLinkHtml = 'Like what you see? Visit the ' +\n",
              "            '<a target=\"_blank\" href=https://colab.research.google.com/notebooks/data_table.ipynb>data table notebook</a>'\n",
              "            + ' to learn more about interactive tables.';\n",
              "          element.innerHTML = '';\n",
              "          dataTable['output_type'] = 'display_data';\n",
              "          await google.colab.output.renderOutput(dataTable, element);\n",
              "          const docLink = document.createElement('div');\n",
              "          docLink.innerHTML = docLinkHtml;\n",
              "          element.appendChild(docLink);\n",
              "        }\n",
              "      </script>\n",
              "    </div>\n",
              "  </div>\n",
              "  "
            ]
          },
          "metadata": {},
          "execution_count": 7
        }
      ]
    },
    {
      "cell_type": "code",
      "source": [
        "columnas= df_final.columns\n",
        "print(columnas)"
      ],
      "metadata": {
        "colab": {
          "base_uri": "https://localhost:8080/"
        },
        "id": "3PZcQtbiZStq",
        "outputId": "cc8217c3-0240-4b66-b414-eb722102e6c0"
      },
      "execution_count": 8,
      "outputs": [
        {
          "output_type": "stream",
          "name": "stdout",
          "text": [
            "Index(['id', 'budget', 'genres', 'popularity', 'release_date', 'revenue',\n",
            "       'title', 'vote_average', 'vote_count', 'release_year', 'return',\n",
            "       'DiaSemana', 'Mes', 'cast', 'crew'],\n",
            "      dtype='object')\n"
          ]
        }
      ]
    },
    {
      "cell_type": "code",
      "source": [
        "@app.get('/cantidad_filmaciones_mes')\n",
        "def cantidad_filmaciones_mes(Mes: str):\n",
        "    # Contar la cantidad de películas estrenadas en el mes\n",
        "    cantidad = df_final[df_final['Mes'] == Mes].shape[0]\n",
        "    return f\"{cantidad} cantidad de películas fueron estrenadas en el mes de {Mes}\"\n",
        "\n",
        "@app.get('/cantidad_filmaciones_dia')\n",
        "def cantidad_filmaciones_dia(Dia: str):\n",
        "    #Contar la cantidad de películas estrenadas en el día\n",
        "    cantidad = df_final[df_final['DiaSemana'] == Dia].shape[0]\n",
        "    return f\"{cantidad} cantidad de películas fueron estrenadas en los días {Dia}\"\n",
        "\n",
        "\n",
        "@app.get('/score_titulo')\n",
        "def score_titulo(titulo_de_la_filmación: str):\n",
        "    # Obtener el título, año de estreno y score\n",
        "    row = df_final[df_final['title'] == titulo_de_la_filmación].iloc[0]\n",
        "    titulo = row['title']\n",
        "    año = row['release_year']\n",
        "    score = row['popularity']\n",
        "    return f\"La película {titulo} fue estrenada en el año {año} con un score/popularidad de {score}\"\n",
        "\n",
        "\n",
        "@app.get('/votos_titulo')\n",
        "def votos_titulo(titulo_de_la_filmación: str):\n",
        "    # Obtener el título, cantidad de votos y valor promedio\n",
        "    row = df_final[df_final['title'] == titulo_de_la_filmación].iloc[0]\n",
        "    titulo = row['title']\n",
        "    año = row['release_year']\n",
        "    cantidad_votos = row['vote_count']\n",
        "    promedio_votos = row['vote_average']\n",
        "\n",
        "    if cantidad_votos < 2000:\n",
        "        return \"La película no cumple la condición de tener al menos 2000 valoraciones.\"\n",
        "    else:\n",
        "        return f\"La película {titulo} fue estrenada en el año {año}. La misma cuenta con un total de {cantidad_votos} valoraciones, con un promedio de {promedio_votos}\"\n",
        "\n",
        "\n",
        "@app.get('/get_actor')\n",
        "def get_actor(nombre_actor: str):\n",
        "    # Lógica para obtener el éxito del actor, cantidad de filmaciones y promedio de retorno\n",
        "    actor_data = df_final[df_final['cast'].str.contains(nombre_actor, case=False)]\n",
        "    cantidad_filmaciones = actor_data.shape[0]\n",
        "    éxito = actor_data['return'].sum()\n",
        "    promedio_retorno = éxito / cantidad_filmaciones if cantidad_filmaciones > 0 else 0\n",
        "\n",
        "    return f\"El actor {nombre_actor} ha participado de {cantidad_filmaciones} filmaciones. El mismo ha conseguido un retorno de {éxito} con un promedio de {promedio_retorno} por filmación\"\n",
        "\n",
        "@app.get('/get_director')\n",
        "def get_director(nombre_director: str):\n",
        "    # Obtener el éxito del director, detalles de las películas, costo y ganancia\n",
        "    director_data = df_final[df_final['crew'].str.contains(nombre_director, case=False)]\n",
        "    éxito = director_data['return'].sum()\n",
        "    peliculas = []\n",
        "\n",
        "    for _, row in director_data.iterrows():\n",
        "        titulo = row['title']\n",
        "        fecha_lanzamiento = row['release_date']\n",
        "        retorno_individual = row['return']\n",
        "        costo = row['budget']\n",
        "        ganancia = row['revenue']\n",
        "        peliculas.append({\n",
        "            'Título': titulo,\n",
        "            'Fecha de lanzamiento': fecha_lanzamiento,\n",
        "            'Retorno individual': retorno_individual,\n",
        "            'Costo': costo,\n",
        "            'Ganancia': ganancia\n",
        "        })\n",
        "\n",
        "    return {\n",
        "        'Éxito': éxito,\n",
        "        'Películas': peliculas\n",
        "    }"
      ],
      "metadata": {
        "id": "MLTthTp5Tssj"
      },
      "execution_count": 9,
      "outputs": []
    },
    {
      "cell_type": "code",
      "source": [
        "app = FastAPI()\n",
        "\n",
        "\n",
        "# Solución para ejecutar en entornos interactivos como Jupyter Notebook o Google Colab\n",
        "nest_asyncio.apply()\n",
        "\n",
        "if __name__ == '__main__':\n",
        "    uvicorn.run(app, host='0.0.0.0', port=8000)\n",
        "\n"
      ],
      "metadata": {
        "colab": {
          "base_uri": "https://localhost:8080/"
        },
        "id": "RWPTwie8cFet",
        "outputId": "a6432b95-6b6c-4705-e0ad-634d62880146"
      },
      "execution_count": 10,
      "outputs": [
        {
          "output_type": "stream",
          "name": "stderr",
          "text": [
            "INFO:     Started server process [3892]\n",
            "INFO:     Waiting for application startup.\n",
            "INFO:     Application startup complete.\n",
            "INFO:     Uvicorn running on http://0.0.0.0:8000 (Press CTRL+C to quit)\n",
            "INFO:     Shutting down\n",
            "INFO:     Waiting for application shutdown.\n",
            "INFO:     Application shutdown complete.\n",
            "INFO:     Finished server process [3892]\n"
          ]
        }
      ]
    }
  ]
}