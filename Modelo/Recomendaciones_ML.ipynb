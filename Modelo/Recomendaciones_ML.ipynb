{
  "nbformat": 4,
  "nbformat_minor": 0,
  "metadata": {
    "colab": {
      "provenance": [],
      "authorship_tag": "ABX9TyOWi41tpugwbKH/wWy+TJzq",
      "include_colab_link": true
    },
    "kernelspec": {
      "name": "python3",
      "display_name": "Python 3"
    },
    "language_info": {
      "name": "python"
    }
  },
  "cells": [
    {
      "cell_type": "markdown",
      "metadata": {
        "id": "view-in-github",
        "colab_type": "text"
      },
      "source": [
        "<a href=\"https://colab.research.google.com/github/Pablobarchiesi94/PI_1_MLOps/blob/main/Modelo/Recomendaciones_ML.ipynb\" target=\"_parent\"><img src=\"https://colab.research.google.com/assets/colab-badge.svg\" alt=\"Open In Colab\"/></a>"
      ]
    },
    {
      "cell_type": "code",
      "execution_count": 1,
      "metadata": {
        "id": "m0qo0AhBtOFy",
        "colab": {
          "base_uri": "https://localhost:8080/"
        },
        "outputId": "a8e7cd8c-47dc-4124-922c-9f6c5f6d7d8f"
      },
      "outputs": [
        {
          "output_type": "stream",
          "name": "stdout",
          "text": [
            "Mounted at /content/drive\n"
          ]
        }
      ],
      "source": [
        "from google.colab import drive\n",
        "drive.mount('/content/drive')"
      ]
    },
    {
      "cell_type": "code",
      "source": [
        "import pandas as pd\n",
        "from sklearn.feature_extraction.text import CountVectorizer\n",
        "from sklearn.metrics.pairwise import cosine_similarity"
      ],
      "metadata": {
        "id": "eTTBMhXhtZ2r"
      },
      "execution_count": 2,
      "outputs": []
    },
    {
      "cell_type": "code",
      "source": [
        "df= pd.read_csv('/content/drive/MyDrive/df_4000.csv')"
      ],
      "metadata": {
        "id": "PLbwg6l8tZmJ"
      },
      "execution_count": 3,
      "outputs": []
    },
    {
      "cell_type": "code",
      "source": [
        "df.head(3)"
      ],
      "metadata": {
        "colab": {
          "base_uri": "https://localhost:8080/",
          "height": 361
        },
        "id": "LntcxmJWdiY5",
        "outputId": "234ffcd6-b77e-4ca8-a8eb-f2f2fdcbec2b"
      },
      "execution_count": 9,
      "outputs": [
        {
          "output_type": "execute_result",
          "data": {
            "text/plain": [
              "       id     budget                                             genres  \\\n",
              "0   46011        0.0  ['Drama', 'Comedy', 'Music', 'Romance', 'Family']   \n",
              "1  227245        0.0                               ['Drama', 'Romance']   \n",
              "2   56525  6000000.0                                         ['Action']   \n",
              "\n",
              "   popularity release_date     revenue                   title  vote_average  \\\n",
              "0    0.078792   1953-03-25         0.0           Call Me Madam           8.5   \n",
              "1    0.150180   1958-08-04         0.0  The Last Day of Summer           6.3   \n",
              "2    0.471086   2007-10-18  11171900.0  Boj S Tenyu 2: Revansh           5.6   \n",
              "\n",
              "   vote_count  release_year    return  DiaSemana      Mes  \\\n",
              "0         2.0          1953  0.000000  Miércoles    Marzo   \n",
              "1         4.0          1958  0.000000      Lunes   Agosto   \n",
              "2         5.0          2007  1.861983     Jueves  Octubre   \n",
              "\n",
              "                                                cast  \\\n",
              "0  ['Ethel Merman', \"Donald O'Connor\", 'Vera-Elle...   \n",
              "1               ['Irena Laskowska', 'Jan Machulski']   \n",
              "2  ['Denis Nikiforov', 'Andrei Panin', 'Elena Pan...   \n",
              "\n",
              "                                                crew  \\\n",
              "0                                    ['Walter Lang']   \n",
              "1  ['Tadeusz Konwicki', 'Tadeusz Konwicki', 'Jan ...   \n",
              "2           ['Anton Megerdichev', 'Aleksei Sidorov']   \n",
              "\n",
              "                                   combined_features  \n",
              "0  ['Drama', 'Comedy', 'Music', 'Romance', 'Famil...  \n",
              "1  ['Drama', 'Romance'] 6.3 ['Irena Laskowska', '...  \n",
              "2  ['Action'] 5.6 ['Denis Nikiforov', 'Andrei Pan...  "
            ],
            "text/html": [
              "\n",
              "  <div id=\"df-eeca6762-f68e-4d34-a01a-40732f20a9c7\">\n",
              "    <div class=\"colab-df-container\">\n",
              "      <div>\n",
              "<style scoped>\n",
              "    .dataframe tbody tr th:only-of-type {\n",
              "        vertical-align: middle;\n",
              "    }\n",
              "\n",
              "    .dataframe tbody tr th {\n",
              "        vertical-align: top;\n",
              "    }\n",
              "\n",
              "    .dataframe thead th {\n",
              "        text-align: right;\n",
              "    }\n",
              "</style>\n",
              "<table border=\"1\" class=\"dataframe\">\n",
              "  <thead>\n",
              "    <tr style=\"text-align: right;\">\n",
              "      <th></th>\n",
              "      <th>id</th>\n",
              "      <th>budget</th>\n",
              "      <th>genres</th>\n",
              "      <th>popularity</th>\n",
              "      <th>release_date</th>\n",
              "      <th>revenue</th>\n",
              "      <th>title</th>\n",
              "      <th>vote_average</th>\n",
              "      <th>vote_count</th>\n",
              "      <th>release_year</th>\n",
              "      <th>return</th>\n",
              "      <th>DiaSemana</th>\n",
              "      <th>Mes</th>\n",
              "      <th>cast</th>\n",
              "      <th>crew</th>\n",
              "      <th>combined_features</th>\n",
              "    </tr>\n",
              "  </thead>\n",
              "  <tbody>\n",
              "    <tr>\n",
              "      <th>0</th>\n",
              "      <td>46011</td>\n",
              "      <td>0.0</td>\n",
              "      <td>['Drama', 'Comedy', 'Music', 'Romance', 'Family']</td>\n",
              "      <td>0.078792</td>\n",
              "      <td>1953-03-25</td>\n",
              "      <td>0.0</td>\n",
              "      <td>Call Me Madam</td>\n",
              "      <td>8.5</td>\n",
              "      <td>2.0</td>\n",
              "      <td>1953</td>\n",
              "      <td>0.000000</td>\n",
              "      <td>Miércoles</td>\n",
              "      <td>Marzo</td>\n",
              "      <td>['Ethel Merman', \"Donald O'Connor\", 'Vera-Elle...</td>\n",
              "      <td>['Walter Lang']</td>\n",
              "      <td>['Drama', 'Comedy', 'Music', 'Romance', 'Famil...</td>\n",
              "    </tr>\n",
              "    <tr>\n",
              "      <th>1</th>\n",
              "      <td>227245</td>\n",
              "      <td>0.0</td>\n",
              "      <td>['Drama', 'Romance']</td>\n",
              "      <td>0.150180</td>\n",
              "      <td>1958-08-04</td>\n",
              "      <td>0.0</td>\n",
              "      <td>The Last Day of Summer</td>\n",
              "      <td>6.3</td>\n",
              "      <td>4.0</td>\n",
              "      <td>1958</td>\n",
              "      <td>0.000000</td>\n",
              "      <td>Lunes</td>\n",
              "      <td>Agosto</td>\n",
              "      <td>['Irena Laskowska', 'Jan Machulski']</td>\n",
              "      <td>['Tadeusz Konwicki', 'Tadeusz Konwicki', 'Jan ...</td>\n",
              "      <td>['Drama', 'Romance'] 6.3 ['Irena Laskowska', '...</td>\n",
              "    </tr>\n",
              "    <tr>\n",
              "      <th>2</th>\n",
              "      <td>56525</td>\n",
              "      <td>6000000.0</td>\n",
              "      <td>['Action']</td>\n",
              "      <td>0.471086</td>\n",
              "      <td>2007-10-18</td>\n",
              "      <td>11171900.0</td>\n",
              "      <td>Boj S Tenyu 2: Revansh</td>\n",
              "      <td>5.6</td>\n",
              "      <td>5.0</td>\n",
              "      <td>2007</td>\n",
              "      <td>1.861983</td>\n",
              "      <td>Jueves</td>\n",
              "      <td>Octubre</td>\n",
              "      <td>['Denis Nikiforov', 'Andrei Panin', 'Elena Pan...</td>\n",
              "      <td>['Anton Megerdichev', 'Aleksei Sidorov']</td>\n",
              "      <td>['Action'] 5.6 ['Denis Nikiforov', 'Andrei Pan...</td>\n",
              "    </tr>\n",
              "  </tbody>\n",
              "</table>\n",
              "</div>\n",
              "      <button class=\"colab-df-convert\" onclick=\"convertToInteractive('df-eeca6762-f68e-4d34-a01a-40732f20a9c7')\"\n",
              "              title=\"Convert this dataframe to an interactive table.\"\n",
              "              style=\"display:none;\">\n",
              "        \n",
              "  <svg xmlns=\"http://www.w3.org/2000/svg\" height=\"24px\"viewBox=\"0 0 24 24\"\n",
              "       width=\"24px\">\n",
              "    <path d=\"M0 0h24v24H0V0z\" fill=\"none\"/>\n",
              "    <path d=\"M18.56 5.44l.94 2.06.94-2.06 2.06-.94-2.06-.94-.94-2.06-.94 2.06-2.06.94zm-11 1L8.5 8.5l.94-2.06 2.06-.94-2.06-.94L8.5 2.5l-.94 2.06-2.06.94zm10 10l.94 2.06.94-2.06 2.06-.94-2.06-.94-.94-2.06-.94 2.06-2.06.94z\"/><path d=\"M17.41 7.96l-1.37-1.37c-.4-.4-.92-.59-1.43-.59-.52 0-1.04.2-1.43.59L10.3 9.45l-7.72 7.72c-.78.78-.78 2.05 0 2.83L4 21.41c.39.39.9.59 1.41.59.51 0 1.02-.2 1.41-.59l7.78-7.78 2.81-2.81c.8-.78.8-2.07 0-2.86zM5.41 20L4 18.59l7.72-7.72 1.47 1.35L5.41 20z\"/>\n",
              "  </svg>\n",
              "      </button>\n",
              "      \n",
              "  <style>\n",
              "    .colab-df-container {\n",
              "      display:flex;\n",
              "      flex-wrap:wrap;\n",
              "      gap: 12px;\n",
              "    }\n",
              "\n",
              "    .colab-df-convert {\n",
              "      background-color: #E8F0FE;\n",
              "      border: none;\n",
              "      border-radius: 50%;\n",
              "      cursor: pointer;\n",
              "      display: none;\n",
              "      fill: #1967D2;\n",
              "      height: 32px;\n",
              "      padding: 0 0 0 0;\n",
              "      width: 32px;\n",
              "    }\n",
              "\n",
              "    .colab-df-convert:hover {\n",
              "      background-color: #E2EBFA;\n",
              "      box-shadow: 0px 1px 2px rgba(60, 64, 67, 0.3), 0px 1px 3px 1px rgba(60, 64, 67, 0.15);\n",
              "      fill: #174EA6;\n",
              "    }\n",
              "\n",
              "    [theme=dark] .colab-df-convert {\n",
              "      background-color: #3B4455;\n",
              "      fill: #D2E3FC;\n",
              "    }\n",
              "\n",
              "    [theme=dark] .colab-df-convert:hover {\n",
              "      background-color: #434B5C;\n",
              "      box-shadow: 0px 1px 3px 1px rgba(0, 0, 0, 0.15);\n",
              "      filter: drop-shadow(0px 1px 2px rgba(0, 0, 0, 0.3));\n",
              "      fill: #FFFFFF;\n",
              "    }\n",
              "  </style>\n",
              "\n",
              "      <script>\n",
              "        const buttonEl =\n",
              "          document.querySelector('#df-eeca6762-f68e-4d34-a01a-40732f20a9c7 button.colab-df-convert');\n",
              "        buttonEl.style.display =\n",
              "          google.colab.kernel.accessAllowed ? 'block' : 'none';\n",
              "\n",
              "        async function convertToInteractive(key) {\n",
              "          const element = document.querySelector('#df-eeca6762-f68e-4d34-a01a-40732f20a9c7');\n",
              "          const dataTable =\n",
              "            await google.colab.kernel.invokeFunction('convertToInteractive',\n",
              "                                                     [key], {});\n",
              "          if (!dataTable) return;\n",
              "\n",
              "          const docLinkHtml = 'Like what you see? Visit the ' +\n",
              "            '<a target=\"_blank\" href=https://colab.research.google.com/notebooks/data_table.ipynb>data table notebook</a>'\n",
              "            + ' to learn more about interactive tables.';\n",
              "          element.innerHTML = '';\n",
              "          dataTable['output_type'] = 'display_data';\n",
              "          await google.colab.output.renderOutput(dataTable, element);\n",
              "          const docLink = document.createElement('div');\n",
              "          docLink.innerHTML = docLinkHtml;\n",
              "          element.appendChild(docLink);\n",
              "        }\n",
              "      </script>\n",
              "    </div>\n",
              "  </div>\n",
              "  "
            ]
          },
          "metadata": {},
          "execution_count": 9
        }
      ]
    },
    {
      "cell_type": "code",
      "source": [
        "# Creo una matriz de características utilizando las variables relevantes\n",
        "features = ['genres', 'vote_average', 'cast']\n",
        "df['combined_features'] = df[features].apply(lambda row: ' '.join(row.values.astype(str)), axis=1)\n",
        "\n",
        "# Utilizo CountVectorizer para convertir el texto en una matriz de conteo\n",
        "count_matrix = CountVectorizer().fit_transform(df['combined_features'])\n",
        "\n",
        "# Calculo la similitud del coseno entre las películas\n",
        "cosine_sim = cosine_similarity(count_matrix)\n",
        "\n",
        "def recomendacion(titulo):\n",
        "    # para no tener en cuenta las minusculas y mayusculas\n",
        "    titulo = titulo.lower()\n",
        "\n",
        "    # Obtengo el índice de la película con el título dado\n",
        "    idx = df[df['title'].str.lower() == titulo].index[0]\n",
        "\n",
        "    # Obtengo los puntajes de similitud para la película con el título dado\n",
        "    sim_scores = list(enumerate(cosine_sim[idx]))\n",
        "\n",
        "    # Ordeno las películas según la similitud de puntajes en orden descendente\n",
        "    sim_scores = sorted(sim_scores, key=lambda x: x[1], reverse=True)\n",
        "\n",
        "    # Obtengo los índices de las películas similares (excluyendo la película con el título dado)\n",
        "    sim_indices = [i[0] for i in sim_scores if i[0] != idx]\n",
        "\n",
        "    # Obtengo los títulos de las 5 películas más similares\n",
        "    top_movies = df['title'].iloc[sim_indices[:5]].values.tolist()\n",
        "\n",
        "    return top_movies"
      ],
      "metadata": {
        "id": "jf9ZsrcRtZZC"
      },
      "execution_count": 4,
      "outputs": []
    },
    {
      "cell_type": "code",
      "source": [
        "# Prueba\n",
        "print(recomendacion('call me madam'))"
      ],
      "metadata": {
        "id": "_ddv9rAAtZA_",
        "colab": {
          "base_uri": "https://localhost:8080/"
        },
        "outputId": "3abb970a-5e8b-4b8f-e6fa-fed9f64c8c93"
      },
      "execution_count": 10,
      "outputs": [
        {
          "output_type": "stream",
          "name": "stdout",
          "text": [
            "['Up in Arms', 'Under the Cherry Moon', 'The Mad Miss Manton', 'The White Sheik', 'The Great Waltz']\n"
          ]
        }
      ]
    }
  ]
}