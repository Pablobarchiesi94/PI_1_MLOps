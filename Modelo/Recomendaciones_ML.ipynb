{
  "nbformat": 4,
  "nbformat_minor": 0,
  "metadata": {
    "colab": {
      "provenance": [],
      "authorship_tag": "ABX9TyMFjSpbPI2xg29M3J2qLSC6",
      "include_colab_link": true
    },
    "kernelspec": {
      "name": "python3",
      "display_name": "Python 3"
    },
    "language_info": {
      "name": "python"
    }
  },
  "cells": [
    {
      "cell_type": "markdown",
      "metadata": {
        "id": "view-in-github",
        "colab_type": "text"
      },
      "source": [
        "<a href=\"https://colab.research.google.com/github/Pablobarchiesi94/PI_1_MLOps/blob/main/Modelo/Recomendaciones_ML.ipynb\" target=\"_parent\"><img src=\"https://colab.research.google.com/assets/colab-badge.svg\" alt=\"Open In Colab\"/></a>"
      ]
    },
    {
      "cell_type": "code",
      "execution_count": null,
      "metadata": {
        "id": "m0qo0AhBtOFy"
      },
      "outputs": [],
      "source": [
        "from google.colab import drive\n",
        "drive.mount('/content/drive')"
      ]
    },
    {
      "cell_type": "code",
      "source": [
        "import pandas as pd\n",
        "from sklearn.feature_extraction.text import CountVectorizer\n",
        "from sklearn.metrics.pairwise import cosine_similarity"
      ],
      "metadata": {
        "id": "eTTBMhXhtZ2r"
      },
      "execution_count": null,
      "outputs": []
    },
    {
      "cell_type": "code",
      "source": [
        "df= pd.read_csv('/content/drive/MyDrive/df_4000.csv')"
      ],
      "metadata": {
        "id": "PLbwg6l8tZmJ"
      },
      "execution_count": null,
      "outputs": []
    },
    {
      "cell_type": "code",
      "source": [
        "# Creo una matriz de características utilizando las variables relevantes\n",
        "features = ['genres', 'vote_average', 'cast']\n",
        "df['combined_features'] = df[features].apply(lambda row: ' '.join(row.values.astype(str)), axis=1)\n",
        "\n",
        "# Utilizo CountVectorizer para convertir el texto en una matriz de conteo\n",
        "count_matrix = CountVectorizer().fit_transform(df['combined_features'])\n",
        "\n",
        "# Calculo la similitud del coseno entre las películas\n",
        "cosine_sim = cosine_similarity(count_matrix)\n",
        "\n",
        "def recomendacion(titulo):\n",
        "    # para no tener en cuenta las minusculas y mayusculas\n",
        "    titulo = titulo.lower()\n",
        "\n",
        "    # Obtengo el índice de la película con el título dado\n",
        "    idx = df[df['title'].str.lower() == titulo].index[0]\n",
        "\n",
        "    # Obtengo los puntajes de similitud para la película con el título dado\n",
        "    sim_scores = list(enumerate(cosine_sim[idx]))\n",
        "\n",
        "    # Ordeno las películas según la similitud de puntajes en orden descendente\n",
        "    sim_scores = sorted(sim_scores, key=lambda x: x[1], reverse=True)\n",
        "\n",
        "    # Obtengo los índices de las películas similares (excluyendo la película con el título dado)\n",
        "    sim_indices = [i[0] for i in sim_scores if i[0] != idx]\n",
        "\n",
        "    # Obtengo los títulos de las 5 películas más similares\n",
        "    top_movies = df['title'].iloc[sim_indices[:5]].values.tolist()\n",
        "\n",
        "    return top_movies"
      ],
      "metadata": {
        "id": "jf9ZsrcRtZZC"
      },
      "execution_count": null,
      "outputs": []
    },
    {
      "cell_type": "code",
      "source": [
        "# Prueba\n",
        "print(recomendacion('AVENGER'))"
      ],
      "metadata": {
        "id": "_ddv9rAAtZA_"
      },
      "execution_count": null,
      "outputs": []
    },
    {
      "cell_type": "code",
      "source": [
        "nombres_columnas = df.columns\n",
        "\n",
        "# Imprimo los nombres de las columnas\n",
        "for columna in nombres_columnas:\n",
        "    print(columna)"
      ],
      "metadata": {
        "id": "GEPNBfEYtXI4"
      },
      "execution_count": null,
      "outputs": []
    }
  ]
}