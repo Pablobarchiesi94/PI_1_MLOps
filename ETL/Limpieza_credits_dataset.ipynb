{
  "nbformat": 4,
  "nbformat_minor": 0,
  "metadata": {
    "colab": {
      "provenance": [],
      "authorship_tag": "ABX9TyPWfpvjJSUWLCPFK9v4iuOR",
      "include_colab_link": true
    },
    "kernelspec": {
      "name": "python3",
      "display_name": "Python 3"
    },
    "language_info": {
      "name": "python"
    }
  },
  "cells": [
    {
      "cell_type": "markdown",
      "metadata": {
        "id": "view-in-github",
        "colab_type": "text"
      },
      "source": [
        "<a href=\"https://colab.research.google.com/github/Pablobarchiesi94/PI_1_MLOps/blob/main/ETL/Limpieza_credits_dataset.ipynb\" target=\"_parent\"><img src=\"https://colab.research.google.com/assets/colab-badge.svg\" alt=\"Open In Colab\"/></a>"
      ]
    },
    {
      "cell_type": "markdown",
      "source": [
        "Me conecto al Drive donde tengo los archivos"
      ],
      "metadata": {
        "id": "yyPw9sIPpiJh"
      }
    },
    {
      "cell_type": "code",
      "source": [
        "from google.colab import drive\n",
        "drive.mount('/content/drive')"
      ],
      "metadata": {
        "colab": {
          "base_uri": "https://localhost:8080/"
        },
        "id": "q0C5SarLICLp",
        "outputId": "6d65ab19-6a30-45fe-af76-e62638f87fee"
      },
      "execution_count": null,
      "outputs": [
        {
          "output_type": "stream",
          "name": "stdout",
          "text": [
            "Mounted at /content/drive\n"
          ]
        }
      ]
    },
    {
      "cell_type": "markdown",
      "source": [
        "Impotación de las librerias que voy a utilizar"
      ],
      "metadata": {
        "id": "VzXi5HE7pr3X"
      }
    },
    {
      "cell_type": "code",
      "source": [
        "import pandas as pd\n",
        "import numpy as np\n",
        "import seaborn as sns\n",
        "import datetime\n",
        "import ast\n",
        "import json"
      ],
      "metadata": {
        "id": "9LVmrfmAtCKE"
      },
      "execution_count": null,
      "outputs": []
    },
    {
      "cell_type": "markdown",
      "source": [
        "Carga del Dataset"
      ],
      "metadata": {
        "id": "JxcGCky4p2Jh"
      }
    },
    {
      "cell_type": "code",
      "source": [
        "df = pd.read_csv('/content/drive/MyDrive/Dataset/credits.csv')"
      ],
      "metadata": {
        "id": "6ZoLR8FNtDCF"
      },
      "execution_count": null,
      "outputs": []
    },
    {
      "cell_type": "markdown",
      "source": [
        "Obtengo las columnas actuales y luego las ordeno"
      ],
      "metadata": {
        "id": "_mqLC_zzp9GJ"
      }
    },
    {
      "cell_type": "code",
      "source": [
        "columnas_actuales = df.columns.tolist()\n",
        "\n",
        "# Defino el nuevo orden de las columnas\n",
        "nuevo_orden = ['id', 'cast', 'crew']\n",
        "\n",
        "# Reordeno las columnas del DataFrame\n",
        "df = df[nuevo_orden]"
      ],
      "metadata": {
        "id": "_vir9FP5FQhU"
      },
      "execution_count": null,
      "outputs": []
    },
    {
      "cell_type": "markdown",
      "source": [
        "Desanidado de los campos del Dataset"
      ],
      "metadata": {
        "id": "Ftkr4FA8qM6o"
      }
    },
    {
      "cell_type": "code",
      "source": [
        "def fetch_name(obj):\n",
        "    if isinstance(obj,str) and '{' in obj:\n",
        "        s = []\n",
        "        for i in ast.literal_eval(obj):\n",
        "            s.append(i['name']);\n",
        "        return s"
      ],
      "metadata": {
        "id": "MA4Imj2P36TX"
      },
      "execution_count": null,
      "outputs": []
    },
    {
      "cell_type": "code",
      "source": [
        "df['cast'] = df['cast'].apply(fetch_name)\n",
        "df['crew'] = df['crew'].apply(fetch_name)"
      ],
      "metadata": {
        "id": "jKlOIYCF4NH4"
      },
      "execution_count": null,
      "outputs": []
    },
    {
      "cell_type": "code",
      "source": [
        "df.head()"
      ],
      "metadata": {
        "colab": {
          "base_uri": "https://localhost:8080/",
          "height": 319
        },
        "id": "9MTx89xP4pKX",
        "outputId": "ab955c5d-fa18-4815-bb69-f55c5aa81174"
      },
      "execution_count": null,
      "outputs": [
        {
          "output_type": "execute_result",
          "data": {
            "text/plain": [
              "      id                                               cast  \\\n",
              "0    862  [Tom Hanks, Tim Allen, Don Rickles, Jim Varney...   \n",
              "1   8844  [Robin Williams, Jonathan Hyde, Kirsten Dunst,...   \n",
              "2  15602  [Walter Matthau, Jack Lemmon, Ann-Margret, Sop...   \n",
              "3  31357  [Whitney Houston, Angela Bassett, Loretta Devi...   \n",
              "4  11862  [Steve Martin, Diane Keaton, Martin Short, Kim...   \n",
              "\n",
              "                                                crew  \n",
              "0  [John Lasseter, Joss Whedon, Andrew Stanton, J...  \n",
              "1  [Larry J. Franco, Jonathan Hensleigh, James Ho...  \n",
              "2  [Howard Deutch, Mark Steven Johnson, Mark Stev...  \n",
              "3  [Forest Whitaker, Ronald Bass, Ronald Bass, Ez...  \n",
              "4  [Alan Silvestri, Elliot Davis, Nancy Meyers, N...  "
            ],
            "text/html": [
              "\n",
              "  <div id=\"df-2e2616ba-2c7c-4420-8452-9a6033727357\">\n",
              "    <div class=\"colab-df-container\">\n",
              "      <div>\n",
              "<style scoped>\n",
              "    .dataframe tbody tr th:only-of-type {\n",
              "        vertical-align: middle;\n",
              "    }\n",
              "\n",
              "    .dataframe tbody tr th {\n",
              "        vertical-align: top;\n",
              "    }\n",
              "\n",
              "    .dataframe thead th {\n",
              "        text-align: right;\n",
              "    }\n",
              "</style>\n",
              "<table border=\"1\" class=\"dataframe\">\n",
              "  <thead>\n",
              "    <tr style=\"text-align: right;\">\n",
              "      <th></th>\n",
              "      <th>id</th>\n",
              "      <th>cast</th>\n",
              "      <th>crew</th>\n",
              "    </tr>\n",
              "  </thead>\n",
              "  <tbody>\n",
              "    <tr>\n",
              "      <th>0</th>\n",
              "      <td>862</td>\n",
              "      <td>[Tom Hanks, Tim Allen, Don Rickles, Jim Varney...</td>\n",
              "      <td>[John Lasseter, Joss Whedon, Andrew Stanton, J...</td>\n",
              "    </tr>\n",
              "    <tr>\n",
              "      <th>1</th>\n",
              "      <td>8844</td>\n",
              "      <td>[Robin Williams, Jonathan Hyde, Kirsten Dunst,...</td>\n",
              "      <td>[Larry J. Franco, Jonathan Hensleigh, James Ho...</td>\n",
              "    </tr>\n",
              "    <tr>\n",
              "      <th>2</th>\n",
              "      <td>15602</td>\n",
              "      <td>[Walter Matthau, Jack Lemmon, Ann-Margret, Sop...</td>\n",
              "      <td>[Howard Deutch, Mark Steven Johnson, Mark Stev...</td>\n",
              "    </tr>\n",
              "    <tr>\n",
              "      <th>3</th>\n",
              "      <td>31357</td>\n",
              "      <td>[Whitney Houston, Angela Bassett, Loretta Devi...</td>\n",
              "      <td>[Forest Whitaker, Ronald Bass, Ronald Bass, Ez...</td>\n",
              "    </tr>\n",
              "    <tr>\n",
              "      <th>4</th>\n",
              "      <td>11862</td>\n",
              "      <td>[Steve Martin, Diane Keaton, Martin Short, Kim...</td>\n",
              "      <td>[Alan Silvestri, Elliot Davis, Nancy Meyers, N...</td>\n",
              "    </tr>\n",
              "  </tbody>\n",
              "</table>\n",
              "</div>\n",
              "      <button class=\"colab-df-convert\" onclick=\"convertToInteractive('df-2e2616ba-2c7c-4420-8452-9a6033727357')\"\n",
              "              title=\"Convert this dataframe to an interactive table.\"\n",
              "              style=\"display:none;\">\n",
              "        \n",
              "  <svg xmlns=\"http://www.w3.org/2000/svg\" height=\"24px\"viewBox=\"0 0 24 24\"\n",
              "       width=\"24px\">\n",
              "    <path d=\"M0 0h24v24H0V0z\" fill=\"none\"/>\n",
              "    <path d=\"M18.56 5.44l.94 2.06.94-2.06 2.06-.94-2.06-.94-.94-2.06-.94 2.06-2.06.94zm-11 1L8.5 8.5l.94-2.06 2.06-.94-2.06-.94L8.5 2.5l-.94 2.06-2.06.94zm10 10l.94 2.06.94-2.06 2.06-.94-2.06-.94-.94-2.06-.94 2.06-2.06.94z\"/><path d=\"M17.41 7.96l-1.37-1.37c-.4-.4-.92-.59-1.43-.59-.52 0-1.04.2-1.43.59L10.3 9.45l-7.72 7.72c-.78.78-.78 2.05 0 2.83L4 21.41c.39.39.9.59 1.41.59.51 0 1.02-.2 1.41-.59l7.78-7.78 2.81-2.81c.8-.78.8-2.07 0-2.86zM5.41 20L4 18.59l7.72-7.72 1.47 1.35L5.41 20z\"/>\n",
              "  </svg>\n",
              "      </button>\n",
              "      \n",
              "  <style>\n",
              "    .colab-df-container {\n",
              "      display:flex;\n",
              "      flex-wrap:wrap;\n",
              "      gap: 12px;\n",
              "    }\n",
              "\n",
              "    .colab-df-convert {\n",
              "      background-color: #E8F0FE;\n",
              "      border: none;\n",
              "      border-radius: 50%;\n",
              "      cursor: pointer;\n",
              "      display: none;\n",
              "      fill: #1967D2;\n",
              "      height: 32px;\n",
              "      padding: 0 0 0 0;\n",
              "      width: 32px;\n",
              "    }\n",
              "\n",
              "    .colab-df-convert:hover {\n",
              "      background-color: #E2EBFA;\n",
              "      box-shadow: 0px 1px 2px rgba(60, 64, 67, 0.3), 0px 1px 3px 1px rgba(60, 64, 67, 0.15);\n",
              "      fill: #174EA6;\n",
              "    }\n",
              "\n",
              "    [theme=dark] .colab-df-convert {\n",
              "      background-color: #3B4455;\n",
              "      fill: #D2E3FC;\n",
              "    }\n",
              "\n",
              "    [theme=dark] .colab-df-convert:hover {\n",
              "      background-color: #434B5C;\n",
              "      box-shadow: 0px 1px 3px 1px rgba(0, 0, 0, 0.15);\n",
              "      filter: drop-shadow(0px 1px 2px rgba(0, 0, 0, 0.3));\n",
              "      fill: #FFFFFF;\n",
              "    }\n",
              "  </style>\n",
              "\n",
              "      <script>\n",
              "        const buttonEl =\n",
              "          document.querySelector('#df-2e2616ba-2c7c-4420-8452-9a6033727357 button.colab-df-convert');\n",
              "        buttonEl.style.display =\n",
              "          google.colab.kernel.accessAllowed ? 'block' : 'none';\n",
              "\n",
              "        async function convertToInteractive(key) {\n",
              "          const element = document.querySelector('#df-2e2616ba-2c7c-4420-8452-9a6033727357');\n",
              "          const dataTable =\n",
              "            await google.colab.kernel.invokeFunction('convertToInteractive',\n",
              "                                                     [key], {});\n",
              "          if (!dataTable) return;\n",
              "\n",
              "          const docLinkHtml = 'Like what you see? Visit the ' +\n",
              "            '<a target=\"_blank\" href=https://colab.research.google.com/notebooks/data_table.ipynb>data table notebook</a>'\n",
              "            + ' to learn more about interactive tables.';\n",
              "          element.innerHTML = '';\n",
              "          dataTable['output_type'] = 'display_data';\n",
              "          await google.colab.output.renderOutput(dataTable, element);\n",
              "          const docLink = document.createElement('div');\n",
              "          docLink.innerHTML = docLinkHtml;\n",
              "          element.appendChild(docLink);\n",
              "        }\n",
              "      </script>\n",
              "    </div>\n",
              "  </div>\n",
              "  "
            ]
          },
          "metadata": {},
          "execution_count": 16
        }
      ]
    },
    {
      "cell_type": "markdown",
      "source": [
        "Guardo de los datos ya limpios"
      ],
      "metadata": {
        "id": "vpOHL3bPqcTl"
      }
    },
    {
      "cell_type": "code",
      "source": [
        "df.to_csv('df_credits_limpio.csv', index=False)\n",
        "# Guardamos en el drive el Dataset limpio\n",
        "df.to_csv('/content/drive/MyDrive/df_credits_limpio.csv', index=False)"
      ],
      "metadata": {
        "id": "7hINsEWsFhUF"
      },
      "execution_count": null,
      "outputs": []
    }
  ]
}